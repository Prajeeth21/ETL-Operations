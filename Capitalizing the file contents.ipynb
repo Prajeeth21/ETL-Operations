{
 "cells": [
  {
   "cell_type": "markdown",
   "metadata": {},
   "source": [
    "## EXTRACT"
   ]
  },
  {
   "cell_type": "code",
   "execution_count": 53,
   "metadata": {},
   "outputs": [
    {
     "name": "stdout",
     "output_type": "stream",
     "text": [
      "enter filename:page1.txt\n"
     ]
    }
   ],
   "source": [
    "filename=input(\"enter filename:\")"
   ]
  },
  {
   "cell_type": "code",
   "execution_count": 54,
   "metadata": {},
   "outputs": [
    {
     "data": {
      "text/plain": [
       "<_io.TextIOWrapper name='page1.txt' mode='r' encoding='cp1252'>"
      ]
     },
     "execution_count": 54,
     "metadata": {},
     "output_type": "execute_result"
    }
   ],
   "source": [
    "open(filename,'r')"
   ]
  },
  {
   "cell_type": "code",
   "execution_count": 57,
   "metadata": {},
   "outputs": [],
   "source": [
    "with open('page1.txt', encoding=\"mbcs\") as f:\n",
    "    contents = f.read()"
   ]
  },
  {
   "cell_type": "code",
   "execution_count": 58,
   "metadata": {},
   "outputs": [
    {
     "data": {
      "text/plain": [
       "\"A paragraph is a collection of words strung together to make a longer unit than a sentence. Several sentences often make to a paragraph. There are normally three to eight sentences in a paragraph. Paragraphs can start with a five-space indentation or by skipping a line and then starting over. This makes it simpler to tell when one paragraph ends and the next starts.\\n\\nA topic phrase appears in most ordered types of writing, such as essays. This paragraph's topic sentence informs the reader about the topic of the paragraph. In most essays, numerous paragraphs make statements to support a thesis statement, which is the essay's fundamental point.\\n\\nParagraphs may signal when the writer changes topics. Each paragraph may have a number of sentences, depending on the topic.\\n\""
      ]
     },
     "execution_count": 58,
     "metadata": {},
     "output_type": "execute_result"
    }
   ],
   "source": [
    "contents"
   ]
  },
  {
   "cell_type": "markdown",
   "metadata": {},
   "source": [
    "## TRANSFORM - LOAD"
   ]
  },
  {
   "cell_type": "code",
   "execution_count": 61,
   "metadata": {},
   "outputs": [],
   "source": [
    "file = open(r\"C:\\Users\\Admin\\Desktop\\out.txt\",'w',encoding=\"mbcs\")\n",
    "for i in contents:\n",
    "    file.write(i.capitalize())\n",
    "file.close()"
   ]
  },
  {
   "cell_type": "markdown",
   "metadata": {},
   "source": [
    "## Read output file"
   ]
  },
  {
   "cell_type": "code",
   "execution_count": 65,
   "metadata": {},
   "outputs": [
    {
     "name": "stdout",
     "output_type": "stream",
     "text": [
      "enter filename:\"C:\\Users\\Admin\\Desktop\\out.txt\"\n"
     ]
    }
   ],
   "source": [
    "filename_output=input('enter filename:')"
   ]
  },
  {
   "cell_type": "code",
   "execution_count": 63,
   "metadata": {},
   "outputs": [],
   "source": [
    "with open(filename_output), encoding=\"mbcs\") as f:\n",
    "    output_content = f.read()"
   ]
  },
  {
   "cell_type": "code",
   "execution_count": 64,
   "metadata": {},
   "outputs": [
    {
     "data": {
      "text/plain": [
       "\"A PARAGRAPH IS A COLLECTION OF WORDS STRUNG TOGETHER TO MAKE A LONGER UNIT THAN A SENTENCE. SEVERAL SENTENCES OFTEN MAKE TO A PARAGRAPH. THERE ARE NORMALLY THREE TO EIGHT SENTENCES IN A PARAGRAPH. PARAGRAPHS CAN START WITH A FIVE-SPACE INDENTATION OR BY SKIPPING A LINE AND THEN STARTING OVER. THIS MAKES IT SIMPLER TO TELL WHEN ONE PARAGRAPH ENDS AND THE NEXT STARTS.\\n\\nA TOPIC PHRASE APPEARS IN MOST ORDERED TYPES OF WRITING, SUCH AS ESSAYS. THIS PARAGRAPH'S TOPIC SENTENCE INFORMS THE READER ABOUT THE TOPIC OF THE PARAGRAPH. IN MOST ESSAYS, NUMEROUS PARAGRAPHS MAKE STATEMENTS TO SUPPORT A THESIS STATEMENT, WHICH IS THE ESSAY'S FUNDAMENTAL POINT.\\n\\nPARAGRAPHS MAY SIGNAL WHEN THE WRITER CHANGES TOPICS. EACH PARAGRAPH MAY HAVE A NUMBER OF SENTENCES, DEPENDING ON THE TOPIC.\\n\""
      ]
     },
     "execution_count": 64,
     "metadata": {},
     "output_type": "execute_result"
    }
   ],
   "source": [
    "output_content"
   ]
  },
  {
   "cell_type": "code",
   "execution_count": null,
   "metadata": {},
   "outputs": [],
   "source": []
  }
 ],
 "metadata": {
  "kernelspec": {
   "display_name": "Python 3 (ipykernel)",
   "language": "python",
   "name": "python3"
  },
  "language_info": {
   "codemirror_mode": {
    "name": "ipython",
    "version": 3
   },
   "file_extension": ".py",
   "mimetype": "text/x-python",
   "name": "python",
   "nbconvert_exporter": "python",
   "pygments_lexer": "ipython3",
   "version": "3.8.12"
  }
 },
 "nbformat": 4,
 "nbformat_minor": 4
}
