{
 "cells": [
  {
   "cell_type": "markdown",
   "metadata": {},
   "source": [
    "## EXTRACT"
   ]
  },
  {
   "cell_type": "code",
   "execution_count": 1,
   "metadata": {},
   "outputs": [
    {
     "name": "stdout",
     "output_type": "stream",
     "text": [
      "enter filename:page1.txt\n"
     ]
    }
   ],
   "source": [
    "filename_input=input(\"enter filename:\")"
   ]
  },
  {
   "cell_type": "code",
   "execution_count": 2,
   "metadata": {},
   "outputs": [
    {
     "data": {
      "text/plain": [
       "<_io.TextIOWrapper name='page1.txt' mode='r' encoding='cp1252'>"
      ]
     },
     "execution_count": 2,
     "metadata": {},
     "output_type": "execute_result"
    }
   ],
   "source": [
    "open(filename,'r')"
   ]
  },
  {
   "cell_type": "code",
   "execution_count": 3,
   "metadata": {},
   "outputs": [],
   "source": [
    "with open('page1.txt', encoding=\"mbcs\") as f:\n",
    "    input_content = f.read()"
   ]
  },
  {
   "cell_type": "code",
   "execution_count": 4,
   "metadata": {},
   "outputs": [
    {
     "data": {
      "text/plain": [
       "\"A paragraph is a collection of words strung together to make a longer unit than a sentence. Several sentences often make to a paragraph. There are normally three to eight sentences in a paragraph. Paragraphs can start with a five-space indentation or by skipping a line and then starting over. This makes it simpler to tell when one paragraph ends and the next starts.\\n\\nA topic phrase appears in most ordered types of writing, such as essays. This paragraph's topic sentence informs the reader about the topic of the paragraph. In most essays, numerous paragraphs make statements to support a thesis statement, which is the essay's fundamental point.\\n\\nParagraphs may signal when the writer changes topics. Each paragraph may have a number of sentences, depending on the topic.\\n\""
      ]
     },
     "execution_count": 4,
     "metadata": {},
     "output_type": "execute_result"
    }
   ],
   "source": [
    "input_content"
   ]
  },
  {
   "cell_type": "markdown",
   "metadata": {},
   "source": [
    "## TRANSFORM"
   ]
  },
  {
   "cell_type": "code",
   "execution_count": 10,
   "metadata": {},
   "outputs": [],
   "source": [
    "lst=contents.split()"
   ]
  },
  {
   "cell_type": "code",
   "execution_count": 11,
   "metadata": {},
   "outputs": [],
   "source": [
    "count={}\n",
    "for i in lst:\n",
    "    if i not in count:\n",
    "        count[i]=1\n",
    "    else:\n",
    "        count[i]+=1\n",
    "        "
   ]
  },
  {
   "cell_type": "code",
   "execution_count": 12,
   "metadata": {},
   "outputs": [
    {
     "data": {
      "text/plain": [
       "{'A': 2,\n",
       " 'paragraph': 3,\n",
       " 'is': 2,\n",
       " 'a': 9,\n",
       " 'collection': 1,\n",
       " 'of': 4,\n",
       " 'words': 1,\n",
       " 'strung': 1,\n",
       " 'together': 1,\n",
       " 'to': 5,\n",
       " 'make': 3,\n",
       " 'longer': 1,\n",
       " 'unit': 1,\n",
       " 'than': 1,\n",
       " 'sentence.': 1,\n",
       " 'Several': 1,\n",
       " 'sentences': 2,\n",
       " 'often': 1,\n",
       " 'paragraph.': 3,\n",
       " 'There': 1,\n",
       " 'are': 1,\n",
       " 'normally': 1,\n",
       " 'three': 1,\n",
       " 'eight': 1,\n",
       " 'in': 2,\n",
       " 'Paragraphs': 2,\n",
       " 'can': 1,\n",
       " 'start': 1,\n",
       " 'with': 1,\n",
       " 'five-space': 1,\n",
       " 'indentation': 1,\n",
       " 'or': 1,\n",
       " 'by': 1,\n",
       " 'skipping': 1,\n",
       " 'line': 1,\n",
       " 'and': 2,\n",
       " 'then': 1,\n",
       " 'starting': 1,\n",
       " 'over.': 1,\n",
       " 'This': 2,\n",
       " 'makes': 1,\n",
       " 'it': 1,\n",
       " 'simpler': 1,\n",
       " 'tell': 1,\n",
       " 'when': 2,\n",
       " 'one': 1,\n",
       " 'ends': 1,\n",
       " 'the': 7,\n",
       " 'next': 1,\n",
       " 'starts.': 1,\n",
       " 'topic': 3,\n",
       " 'phrase': 1,\n",
       " 'appears': 1,\n",
       " 'most': 2,\n",
       " 'ordered': 1,\n",
       " 'types': 1,\n",
       " 'writing,': 1,\n",
       " 'such': 1,\n",
       " 'as': 1,\n",
       " 'essays.': 1,\n",
       " \"paragraph's\": 1,\n",
       " 'sentence': 1,\n",
       " 'informs': 1,\n",
       " 'reader': 1,\n",
       " 'about': 1,\n",
       " 'In': 1,\n",
       " 'essays,': 1,\n",
       " 'numerous': 1,\n",
       " 'paragraphs': 1,\n",
       " 'statements': 1,\n",
       " 'support': 1,\n",
       " 'thesis': 1,\n",
       " 'statement,': 1,\n",
       " 'which': 1,\n",
       " \"essay's\": 1,\n",
       " 'fundamental': 1,\n",
       " 'point.': 1,\n",
       " 'may': 2,\n",
       " 'signal': 1,\n",
       " 'writer': 1,\n",
       " 'changes': 1,\n",
       " 'topics.': 1,\n",
       " 'Each': 1,\n",
       " 'have': 1,\n",
       " 'number': 1,\n",
       " 'sentences,': 1,\n",
       " 'depending': 1,\n",
       " 'on': 1,\n",
       " 'topic.': 1}"
      ]
     },
     "execution_count": 12,
     "metadata": {},
     "output_type": "execute_result"
    }
   ],
   "source": [
    "count"
   ]
  },
  {
   "cell_type": "markdown",
   "metadata": {},
   "source": [
    "##  LOAD"
   ]
  },
  {
   "cell_type": "code",
   "execution_count": 22,
   "metadata": {},
   "outputs": [],
   "source": [
    "import json"
   ]
  },
  {
   "cell_type": "code",
   "execution_count": 28,
   "metadata": {},
   "outputs": [
    {
     "name": "stdout",
     "output_type": "stream",
     "text": [
      "enter filename:\"C:\\Users\\Admin\\Desktop\\out.txt\"\n"
     ]
    }
   ],
   "source": [
    "filename_output=input('enter filename:')"
   ]
  },
  {
   "cell_type": "code",
   "execution_count": 23,
   "metadata": {},
   "outputs": [],
   "source": [
    "with open(r\"C:\\Users\\Admin\\Desktop\\out.txt\", 'w') as convert_file:\n",
    "     convert_file.write(json.dumps(count))"
   ]
  },
  {
   "cell_type": "code",
   "execution_count": 26,
   "metadata": {},
   "outputs": [],
   "source": [
    "with open(r\"C:\\Users\\Admin\\Desktop\\out.txt\", encoding=\"mbcs\") as f:\n",
    "    output_content= f.read()"
   ]
  },
  {
   "cell_type": "code",
   "execution_count": 27,
   "metadata": {},
   "outputs": [
    {
     "data": {
      "text/plain": [
       "'{\"A\": 2, \"paragraph\": 3, \"is\": 2, \"a\": 9, \"collection\": 1, \"of\": 4, \"words\": 1, \"strung\": 1, \"together\": 1, \"to\": 5, \"make\": 3, \"longer\": 1, \"unit\": 1, \"than\": 1, \"sentence.\": 1, \"Several\": 1, \"sentences\": 2, \"often\": 1, \"paragraph.\": 3, \"There\": 1, \"are\": 1, \"normally\": 1, \"three\": 1, \"eight\": 1, \"in\": 2, \"Paragraphs\": 2, \"can\": 1, \"start\": 1, \"with\": 1, \"five-space\": 1, \"indentation\": 1, \"or\": 1, \"by\": 1, \"skipping\": 1, \"line\": 1, \"and\": 2, \"then\": 1, \"starting\": 1, \"over.\": 1, \"This\": 2, \"makes\": 1, \"it\": 1, \"simpler\": 1, \"tell\": 1, \"when\": 2, \"one\": 1, \"ends\": 1, \"the\": 7, \"next\": 1, \"starts.\": 1, \"topic\": 3, \"phrase\": 1, \"appears\": 1, \"most\": 2, \"ordered\": 1, \"types\": 1, \"writing,\": 1, \"such\": 1, \"as\": 1, \"essays.\": 1, \"paragraph\\'s\": 1, \"sentence\": 1, \"informs\": 1, \"reader\": 1, \"about\": 1, \"In\": 1, \"essays,\": 1, \"numerous\": 1, \"paragraphs\": 1, \"statements\": 1, \"support\": 1, \"thesis\": 1, \"statement,\": 1, \"which\": 1, \"essay\\'s\": 1, \"fundamental\": 1, \"point.\": 1, \"may\": 2, \"signal\": 1, \"writer\": 1, \"changes\": 1, \"topics.\": 1, \"Each\": 1, \"have\": 1, \"number\": 1, \"sentences,\": 1, \"depending\": 1, \"on\": 1, \"topic.\": 1}'"
      ]
     },
     "execution_count": 27,
     "metadata": {},
     "output_type": "execute_result"
    }
   ],
   "source": [
    "output_content"
   ]
  }
 ],
 "metadata": {
  "kernelspec": {
   "display_name": "Python 3",
   "language": "python",
   "name": "python3"
  },
  "language_info": {
   "codemirror_mode": {
    "name": "ipython",
    "version": 3
   },
   "file_extension": ".py",
   "mimetype": "text/x-python",
   "name": "python",
   "nbconvert_exporter": "python",
   "pygments_lexer": "ipython3",
   "version": "3.8.3"
  }
 },
 "nbformat": 4,
 "nbformat_minor": 4
}
